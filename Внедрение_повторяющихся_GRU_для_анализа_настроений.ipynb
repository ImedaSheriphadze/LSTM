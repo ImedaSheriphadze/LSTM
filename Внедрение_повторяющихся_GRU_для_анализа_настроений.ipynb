{
  "nbformat": 4,
  "nbformat_minor": 0,
  "metadata": {
    "colab": {
      "private_outputs": true,
      "provenance": [],
      "gpuType": "T4",
      "authorship_tag": "ABX9TyOafG9rEy9OrVjmrNFjC4O7"
    },
    "kernelspec": {
      "name": "python3",
      "display_name": "Python 3"
    },
    "language_info": {
      "name": "python"
    },
    "accelerator": "GPU"
  },
  "cells": [
    {
      "cell_type": "markdown",
      "source": [
        "Внедрение повторяющихся **GRU** для анализа настроений:\n",
        "Для этой демонстрации мы будем использовать библиотеку **Python Keras** для реализации повторяющейся модели **GRU** для анализа настроений в реальном наборе данных. Набор данных, который мы будем использовать, — это набор данных обзоров фильмов **IMDb**, который состоит из обзоров фильмов, помеченных как положительные или отрицательные.\n",
        "\n",
        "**Шаг 1: Импорт библиотек**"
      ],
      "metadata": {
        "id": "7dzY5yliaw6v"
      }
    },
    {
      "cell_type": "code",
      "execution_count": null,
      "metadata": {
        "id": "781ADNm_ZeUD"
      },
      "outputs": [],
      "source": [
        "import numpy as np\n",
        "import tensorflow as tf\n",
        "from tensorflow.keras.datasets import imdb\n",
        "from tensorflow.keras.models import Sequential\n",
        "from tensorflow.keras.layers import Embedding, GRU, Dense, GlobalAveragePooling1D\n"
      ]
    },
    {
      "cell_type": "markdown",
      "source": [
        "**Шаг 2: Загрузите и предварительно обработайте данные**"
      ],
      "metadata": {
        "id": "YPBpI7VFbMeA"
      }
    },
    {
      "cell_type": "code",
      "source": [
        "# Загрузите набор данных IMDb\n",
        "num_words = 10000  # Рассмотрим 10 000 самых частых слов\n",
        "(x_train, y_train), (x_test, y_test) = imdb.load_data(num_words=num_words)\n",
        "\n",
        "# Последовательности пэдов фиксированной длины для ввода в GRU\n",
        "max_sequence_length = 200\n",
        "x_train = tf.keras.preprocessing.sequence.pad_sequences(x_train, maxlen=max_sequence_length)\n",
        "x_test = tf.keras.preprocessing.sequence.pad_sequences(x_test, maxlen=max_sequence_length)\n"
      ],
      "metadata": {
        "id": "woOdbQ-UZsdu"
      },
      "execution_count": null,
      "outputs": []
    },
    {
      "cell_type": "markdown",
      "source": [
        "**Шаг 3: Создайте повторяющуюся модель GRU**"
      ],
      "metadata": {
        "id": "X_ut3npdbXPe"
      }
    },
    {
      "cell_type": "code",
      "source": [
        "embedding_dim = 32\n",
        "hidden_units = 64\n",
        "\n",
        "model = Sequential()\n",
        "model.add(Embedding(num_words, embedding_dim, input_length=max_sequence_length))\n",
        "model.add(GRU(hidden_units, return_sequences=True))\n",
        "model.add(GRU(hidden_units))\n",
        "model.add(Dense(1, activation='sigmoid'))\n"
      ],
      "metadata": {
        "id": "OngXc9gSZ0YN"
      },
      "execution_count": null,
      "outputs": []
    },
    {
      "cell_type": "markdown",
      "source": [
        "**Шаг 4. Скомпилируйте и обучите модель**"
      ],
      "metadata": {
        "id": "oYGHLeMZbfw2"
      }
    },
    {
      "cell_type": "code",
      "source": [
        "model.compile(loss='binary_crossentropy', optimizer='adam', metrics=['accuracy'])\n",
        "model.fit(x_train, y_train, validation_data=(x_test, y_test), epochs=5, batch_size=64)\n"
      ],
      "metadata": {
        "id": "UspqN4AIZ6HX"
      },
      "execution_count": null,
      "outputs": []
    },
    {
      "cell_type": "markdown",
      "source": [
        "**Шаг 5: Оцените модель**"
      ],
      "metadata": {
        "id": "s3VHlvo4booW"
      }
    },
    {
      "cell_type": "code",
      "source": [
        "loss, accuracy = model.evaluate(x_test, y_test)\n",
        "print(f\"Точность теста: {accuracy:.4f}\")\n"
      ],
      "metadata": {
        "id": "McqoP5uOajFo"
      },
      "execution_count": null,
      "outputs": []
    },
    {
      "cell_type": "markdown",
      "source": [
        "В этой реализации мы используем повторяющуюся модель **GRU** с двумя слоями **GRU**. **Первый уровень GRU** возвращает последовательности, потому что мы хотим передать всю последовательность **второму уровню GRU**. **Второй уровень** **GRU** возвращает только окончательное скрытое состояние, которое затем передается в плотный слой с **сигмовидной** активацией для двоичной классификации.\n",
        "\n",
        "Запустив этот код в наборе данных **IMDb**, вы внедрите повторяющуюся модель **GRU** для анализа настроений и получите результаты точности в тестовом наборе. Эксперименты с различными гиперпараметрами, добавление регуляризации или использование предварительно обученных вложений слов могут еще больше повысить производительность модели."
      ],
      "metadata": {
        "id": "ol_pZ8kCfpD-"
      }
    }
  ]
}