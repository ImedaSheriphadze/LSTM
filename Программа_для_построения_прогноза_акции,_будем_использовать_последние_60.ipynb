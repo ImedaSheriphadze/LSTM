{
  "nbformat": 4,
  "nbformat_minor": 0,
  "metadata": {
    "colab": {
      "private_outputs": true,
      "provenance": [],
      "authorship_tag": "ABX9TyPgSBrV0VsLH6tB7JoKKESz"
    },
    "kernelspec": {
      "name": "python3",
      "display_name": "Python 3"
    },
    "language_info": {
      "name": "python"
    },
    "accelerator": "GPU",
    "gpuClass": "standard"
  },
  "cells": [
    {
      "cell_type": "code",
      "execution_count": null,
      "metadata": {
        "id": "CRPABw0-JDQD"
      },
      "outputs": [],
      "source": [
        " !pip install yfinance\n",
        " !pip install yahoofinancials\n",
        " !pip install investpy\n",
        " !pip install pandas"
      ]
    },
    {
      "cell_type": "code",
      "source": [
        "#import библиотек\n",
        "import yfinance as yf\n",
        "import yahoofinancials\n",
        "import math\n",
        "import pandas as pd\n",
        "import numpy as np\n",
        "from sklearn.preprocessing import MinMaxScaler\n",
        "from keras.models import Sequential\n",
        "from keras.layers import Dense, LSTM\n",
        "import matplotlib.pyplot as plt\n",
        "plt.style.use('fivethirtyeight') # специальное отображение графиков для pyplot"
      ],
      "metadata": {
        "id": "SegeQ7I5KhFR"
      },
      "execution_count": null,
      "outputs": []
    },
    {
      "cell_type": "code",
      "source": [
        "Gold = yf.download('Gold',\n",
        "                      start='2015-01-01',\n",
        "                      end='2023-12-31',\n",
        "                      progress=False)\n",
        "Gold"
      ],
      "metadata": {
        "id": "XoPtRWdJLBS5"
      },
      "execution_count": null,
      "outputs": []
    },
    {
      "cell_type": "code",
      "source": [
        "plt.figure(figsize = (16,8))\n",
        "plt.title('Закрыть историю цен')\n",
        "plt.plot(Gold['Close'])\n",
        "plt.xlabel('Дата')\n",
        "plt.ylabel('Цена закрытия в долларах США')\n",
        "plt.show()"
      ],
      "metadata": {
        "id": "J5q5W6gxMM03"
      },
      "execution_count": null,
      "outputs": []
    },
    {
      "cell_type": "code",
      "source": [
        "# Создаем новый датафрейм только с колонкой \"Close\"\n",
        "data = Gold.filter(['Close'])\n",
        "# преобразовываем в нумпаевский массив\n",
        "dataset = data.values\n",
        "# Вытаскиваем количество строк в дате для обучения модели (LSTM)\n",
        "training_data_len = math.ceil(len(dataset) * .8)\n",
        "\n",
        "training_data_len"
      ],
      "metadata": {
        "id": "fKrqpS3eM0yi"
      },
      "execution_count": null,
      "outputs": []
    },
    {
      "cell_type": "code",
      "source": [
        "#Масштабировать данные (масштабируем)\n",
        "scaler = MinMaxScaler(feature_range=(0,1))\n",
        "scaled_data = scaler.fit_transform(dataset)\n",
        "\n",
        "scaled_data"
      ],
      "metadata": {
        "id": "lIXpHOsJM6q-"
      },
      "execution_count": null,
      "outputs": []
    },
    {
      "cell_type": "code",
      "source": [
        "# Создаем датасет для обучения\n",
        "train_data = scaled_data[0:training_data_len]\n",
        "# разбиваем на x underscore train и y underscore train\n",
        "x_train = []\n",
        "y_train = []\n",
        "\n",
        "for i in range(60, len(train_data)):\n",
        "    x_train.append(train_data[i-60:i])\n",
        "    y_train.append(train_data[i])"
      ],
      "metadata": {
        "id": "H8hLr6rUM_nu"
      },
      "execution_count": null,
      "outputs": []
    },
    {
      "cell_type": "code",
      "source": [
        "#Конвертируем x_train и y_train в нумпаевский массив\n",
        "x_train, y_train = np.array(x_train), np.array(y_train)"
      ],
      "metadata": {
        "id": "eXj_PjgiNE_y"
      },
      "execution_count": null,
      "outputs": []
    },
    {
      "cell_type": "code",
      "source": [
        "#Изменить форму данных\n",
        "x_train = np.reshape(x_train, (x_train.shape[0],x_train.shape[1],x_train.shape[2]))"
      ],
      "metadata": {
        "id": "1U3e9w3zNJie"
      },
      "execution_count": null,
      "outputs": []
    },
    {
      "cell_type": "code",
      "source": [
        "#Строим нейронку\n",
        "model = Sequential()\n",
        "model.add(LSTM(50,return_sequences = True, input_shape = (x_train.shape[1],x_train.shape[2])))\n",
        "model.add(LSTM(50,return_sequences = False))\n",
        "model.add(Dense(25))\n",
        "model.add(Dense(1))"
      ],
      "metadata": {
        "id": "2dMp4HvONO7m"
      },
      "execution_count": null,
      "outputs": []
    },
    {
      "cell_type": "code",
      "source": [
        "#Компилируем модель\n",
        "model.compile(optimizer='adam',loss = 'mean_squared_error')"
      ],
      "metadata": {
        "id": "RxvKw5BmNVz-"
      },
      "execution_count": null,
      "outputs": []
    },
    {
      "cell_type": "code",
      "source": [
        "#Тренируем модель\n",
        "model.fit(x_train,y_train,batch_size = 1, epochs = 50)"
      ],
      "metadata": {
        "id": "D-KeqmX_Ncj4"
      },
      "execution_count": null,
      "outputs": []
    },
    {
      "cell_type": "code",
      "source": [
        "#Создаем тестовый датасет\n",
        "test_data = scaled_data[training_data_len - 60:]\n",
        "#по аналогии создаем x_test и y_test\n",
        "x_test = []\n",
        "y_test = dataset[training_data_len:]\n",
        "for i in range(60,len(test_data)):\n",
        "    x_test.append(test_data[i-60:i])"
      ],
      "metadata": {
        "id": "cyF8NrlSQLMa"
      },
      "execution_count": null,
      "outputs": []
    },
    {
      "cell_type": "code",
      "source": [
        "#опять преобразуем в нумпаевский массив\n",
        "x_test = np.array(x_test)"
      ],
      "metadata": {
        "id": "AaW-Oip6QeW8"
      },
      "execution_count": null,
      "outputs": []
    },
    {
      "cell_type": "code",
      "source": [
        "#опять делаем reshape\n",
        "x_test = np.reshape(x_test,(x_test.shape[0],x_test.shape[1],x_test.shape[2]))"
      ],
      "metadata": {
        "id": "T-vQei9_QjfZ"
      },
      "execution_count": null,
      "outputs": []
    },
    {
      "cell_type": "code",
      "source": [
        "#Получаем модель предсказывающую значения\n",
        "predictions = model.predict(x_test)\n",
        "predictions = scaler.inverse_transform(predictions)"
      ],
      "metadata": {
        "id": "CBr44CA-QpYp"
      },
      "execution_count": null,
      "outputs": []
    },
    {
      "cell_type": "code",
      "source": [
        "#Получим mean squared error (RMSE) - метод наименьших квадратов\n",
        "rmse =np.sqrt(np.mean(predictions-y_test)**2)\n",
        "rmse"
      ],
      "metadata": {
        "id": "NaRW-PePQvwf"
      },
      "execution_count": null,
      "outputs": []
    },
    {
      "cell_type": "code",
      "source": [
        "#Строим график\n",
        "train = data[:training_data_len]\n",
        "valid = data[training_data_len: ]\n",
        "valid['Predictions'] = predictions\n",
        "#Визуализируем\n",
        "plt.figure(figsize=(16,8))\n",
        "plt.title('Модель LSTM')\n",
        "plt.xlabel('Дата', fontsize = 18)\n",
        "plt.ylabel('Цена закрытия',fontsize = 18)\n",
        "plt.plot(train['Close'])\n",
        "plt.plot(valid[['Close','Predictions']])\n",
        "plt.legend(['Тренироваться','Валь','пред'], loc = 'lower right')\n",
        "plt.show()"
      ],
      "metadata": {
        "id": "MLp9KeJ4Q2N_"
      },
      "execution_count": null,
      "outputs": []
    }
  ]
}